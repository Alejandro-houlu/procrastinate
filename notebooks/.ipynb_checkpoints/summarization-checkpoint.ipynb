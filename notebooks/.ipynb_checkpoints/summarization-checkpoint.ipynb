{
 "cells": [
  {
   "cell_type": "markdown",
   "metadata": {},
   "source": [
    "### Importing libraries"
   ]
  },
  {
   "cell_type": "code",
   "execution_count": 1,
   "metadata": {},
   "outputs": [],
   "source": [
    "from transformers import pipeline\n",
    "import os\n",
    "from pathlib import Path"
   ]
  },
  {
   "cell_type": "code",
   "execution_count": 5,
   "metadata": {},
   "outputs": [
    {
     "data": {
      "application/vnd.jupyter.widget-view+json": {
       "model_id": "efdf7ecdafae4a56859286c3875f5777",
       "version_major": 2,
       "version_minor": 0
      },
      "text/plain": [
       "model.safetensors:   0%|          | 0.00/1.63G [00:00<?, ?B/s]"
      ]
     },
     "metadata": {},
     "output_type": "display_data"
    },
    {
     "data": {
      "application/vnd.jupyter.widget-view+json": {
       "model_id": "5b0e1b2cdd7a4766887441fc1e3b4e3b",
       "version_major": 2,
       "version_minor": 0
      },
      "text/plain": [
       "generation_config.json:   0%|          | 0.00/363 [00:00<?, ?B/s]"
      ]
     },
     "metadata": {},
     "output_type": "display_data"
    },
    {
     "data": {
      "application/vnd.jupyter.widget-view+json": {
       "model_id": "20bce3ed26fe469eab56b63342db6924",
       "version_major": 2,
       "version_minor": 0
      },
      "text/plain": [
       "vocab.json:   0%|          | 0.00/899k [00:00<?, ?B/s]"
      ]
     },
     "metadata": {},
     "output_type": "display_data"
    },
    {
     "data": {
      "application/vnd.jupyter.widget-view+json": {
       "model_id": "07364022231c40429637f6a24815b220",
       "version_major": 2,
       "version_minor": 0
      },
      "text/plain": [
       "merges.txt:   0%|          | 0.00/456k [00:00<?, ?B/s]"
      ]
     },
     "metadata": {},
     "output_type": "display_data"
    },
    {
     "data": {
      "application/vnd.jupyter.widget-view+json": {
       "model_id": "7faf0d88ecdb4908a85664e1cbbc1da0",
       "version_major": 2,
       "version_minor": 0
      },
      "text/plain": [
       "tokenizer.json:   0%|          | 0.00/1.36M [00:00<?, ?B/s]"
      ]
     },
     "metadata": {},
     "output_type": "display_data"
    }
   ],
   "source": [
    "summarizer = pipeline(\"summarization\", model=\"facebook/bart-large-cnn\")"
   ]
  },
  {
   "cell_type": "code",
   "execution_count": 3,
   "metadata": {},
   "outputs": [
    {
     "name": "stdout",
     "output_type": "stream",
     "text": [
      "c:/Users/yangz/OneDrive/Desktop/nus_masters/procrastinate/transcription_texts/alejandro_voice_transcribed.txt\n",
      " Dum, ba-da-dum Ba-da-dum, dum, ba-da-dum Dum-ba-dum, dum, ba-da-dum Ba-da-dum, dum, ba-da-dum Dum-ba-da-dum Ba-da-dum, dum, ba-dum Ba-da-dum, dum, ba-da-dum Ba-da-dum, dum, ba-da-dum Woke up in the morning feeling kinda great Too many things I wanna do Walking down the streets I'll find a million ways To create something new Maybe I could ski across the Milky Way Paint a picture of your smile, oh I'll become a doctor and I'll save the day Or just sit for a while Roll or hide, this heart has more colors Than black and white, don't act so surprised Every day brings a different you You gotta have a canvas for dreams to come true People always have opinions on what you're doing And they'll try to put you down All you have to do is let go of what they're saying They don't know who's the best in town Wrong or right This heart has more colors than black and white Don't act so surprised, every day brings a different hue You gotta have a canvas for dreams to come true All the steps we take Brings us closer to what we'll achieve And all the risks we make Will pay off Just believe We'll pay off, just believe So no matter wrong or right This heart has more colors than black and white Don't tell me you're surprised Every day brings a different hue You gotta have a canvas for dreams to come true You're wrong or right This heart has more colors than black and white Don't act so surprised Every day brings a different you You gotta have a canvas for dreams to come true Yeah A canvas for dreams to come true And this canvas will make dreams come true\n"
     ]
    }
   ],
   "source": [
    "cwd = Path.cwd()\n",
    "parent_path = cwd.parent\n",
    "article_file_path = os.path.join(parent_path, \"transcription_texts/alejandro_voice_transcribed.txt\")\n",
    "article_file_path = article_file_path.replace(\"\\\\\", \"/\")\n",
    "print(article_file_path)\n",
    "with open(article_file_path) as src:\n",
    "    article = src.readlines()[0]\n",
    "\n",
    "\n",
    "print(article)"
   ]
  },
  {
   "cell_type": "code",
   "execution_count": 11,
   "metadata": {},
   "outputs": [
    {
     "name": "stdout",
     "output_type": "stream",
     "text": [
      "[{'summary_text': \"This heart has more colors than black and white, don't act so surprised Every day brings a different you You gotta have a canvas for dreams to come true People always have opinions on what you're doing And they'll try to put you down All you have to do is let go of what they're saying. All the steps we take Brings us closer to what we'll achieve And all the risks we make Will pay off Just believe We'll pay off.\"}]\n",
      "This heart has more colors than black and white, don't act so surprised Every day brings a different you You gotta have a canvas for dreams to come true People always have opinions on what you're doing And they'll try to put you down All you have to do is let go of what they're saying. All the steps we take Brings us closer to what we'll achieve And all the risks we make Will pay off Just believe We'll pay off.\n"
     ]
    }
   ],
   "source": [
    "summarized_text = summarizer(article, max_length=130, min_length=30, do_sample=False)\n",
    "print(summarized_text)\n",
    "print(summarized_text[0][\"summary_text\"])"
   ]
  },
  {
   "cell_type": "code",
   "execution_count": 4,
   "metadata": {},
   "outputs": [
    {
     "ename": "NameError",
     "evalue": "name 'summarized_text' is not defined",
     "output_type": "error",
     "traceback": [
      "\u001b[1;31m---------------------------------------------------------------------------\u001b[0m",
      "\u001b[1;31mNameError\u001b[0m                                 Traceback (most recent call last)",
      "Cell \u001b[1;32mIn[4], line 1\u001b[0m\n\u001b[1;32m----> 1\u001b[0m summarized_text \u001b[38;5;241m=\u001b[39m \u001b[43msummarized_text\u001b[49m[\u001b[38;5;241m0\u001b[39m][\u001b[38;5;124m\"\u001b[39m\u001b[38;5;124msummary_text\u001b[39m\u001b[38;5;124m\"\u001b[39m]\n\u001b[0;32m      2\u001b[0m summarized_text_file_path \u001b[38;5;241m=\u001b[39m os\u001b[38;5;241m.\u001b[39mpath\u001b[38;5;241m.\u001b[39mjoin(parent_path, \u001b[38;5;124m\"\u001b[39m\u001b[38;5;124msummarised_output/summarized_text.txt\u001b[39m\u001b[38;5;124m\"\u001b[39m)\u001b[38;5;241m.\u001b[39mreplace(\u001b[38;5;124m\"\u001b[39m\u001b[38;5;130;01m\\\\\u001b[39;00m\u001b[38;5;124m\"\u001b[39m, \u001b[38;5;124m\"\u001b[39m\u001b[38;5;124m/\u001b[39m\u001b[38;5;124m\"\u001b[39m)\n\u001b[0;32m      3\u001b[0m \u001b[38;5;28;01mwith\u001b[39;00m \u001b[38;5;28mopen\u001b[39m(summarized_text_file_path, \u001b[38;5;124m\"\u001b[39m\u001b[38;5;124mw\u001b[39m\u001b[38;5;124m\"\u001b[39m) \u001b[38;5;28;01mas\u001b[39;00m dst:\n",
      "\u001b[1;31mNameError\u001b[0m: name 'summarized_text' is not defined"
     ]
    }
   ],
   "source": [
    "summarized_text = summarized_text[0][\"summary_text\"]\n",
    "summarized_text_file_path = os.path.join(parent_path, \"summarised_output/summarized_text.txt\").replace(\"\\\\\", \"/\")\n",
    "with open(summarized_text_file_path, \"w\") as dst:\n",
    "    dst.write(summarized_text)"
   ]
  }
 ],
 "metadata": {
  "kernelspec": {
   "display_name": "procrastinate",
   "language": "python",
   "name": "python3"
  },
  "language_info": {
   "codemirror_mode": {
    "name": "ipython",
    "version": 3
   },
   "file_extension": ".py",
   "mimetype": "text/x-python",
   "name": "python",
   "nbconvert_exporter": "python",
   "pygments_lexer": "ipython3",
   "version": "3.9.18"
  }
 },
 "nbformat": 4,
 "nbformat_minor": 2
}
