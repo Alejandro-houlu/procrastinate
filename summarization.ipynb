{
 "cells": [
  {
   "cell_type": "markdown",
   "metadata": {},
   "source": [
    "### Importing libraries"
   ]
  },
  {
   "cell_type": "code",
   "execution_count": 1,
   "metadata": {},
   "outputs": [],
   "source": [
    "from transformers import pipeline"
   ]
  },
  {
   "cell_type": "code",
   "execution_count": 5,
   "metadata": {},
   "outputs": [
    {
     "data": {
      "application/vnd.jupyter.widget-view+json": {
       "model_id": "efdf7ecdafae4a56859286c3875f5777",
       "version_major": 2,
       "version_minor": 0
      },
      "text/plain": [
       "model.safetensors:   0%|          | 0.00/1.63G [00:00<?, ?B/s]"
      ]
     },
     "metadata": {},
     "output_type": "display_data"
    },
    {
     "data": {
      "application/vnd.jupyter.widget-view+json": {
       "model_id": "5b0e1b2cdd7a4766887441fc1e3b4e3b",
       "version_major": 2,
       "version_minor": 0
      },
      "text/plain": [
       "generation_config.json:   0%|          | 0.00/363 [00:00<?, ?B/s]"
      ]
     },
     "metadata": {},
     "output_type": "display_data"
    },
    {
     "data": {
      "application/vnd.jupyter.widget-view+json": {
       "model_id": "20bce3ed26fe469eab56b63342db6924",
       "version_major": 2,
       "version_minor": 0
      },
      "text/plain": [
       "vocab.json:   0%|          | 0.00/899k [00:00<?, ?B/s]"
      ]
     },
     "metadata": {},
     "output_type": "display_data"
    },
    {
     "data": {
      "application/vnd.jupyter.widget-view+json": {
       "model_id": "07364022231c40429637f6a24815b220",
       "version_major": 2,
       "version_minor": 0
      },
      "text/plain": [
       "merges.txt:   0%|          | 0.00/456k [00:00<?, ?B/s]"
      ]
     },
     "metadata": {},
     "output_type": "display_data"
    },
    {
     "data": {
      "application/vnd.jupyter.widget-view+json": {
       "model_id": "7faf0d88ecdb4908a85664e1cbbc1da0",
       "version_major": 2,
       "version_minor": 0
      },
      "text/plain": [
       "tokenizer.json:   0%|          | 0.00/1.36M [00:00<?, ?B/s]"
      ]
     },
     "metadata": {},
     "output_type": "display_data"
    }
   ],
   "source": [
    "summarizer = pipeline(\"summarization\", model=\"facebook/bart-large-cnn\")"
   ]
  },
  {
   "cell_type": "code",
   "execution_count": 4,
   "metadata": {},
   "outputs": [
    {
     "name": "stdout",
     "output_type": "stream",
     "text": [
      " Dum, ba-da-dum Ba-da-dum, dum, ba-da-dum Dum-ba-dum, dum, ba-da-dum Ba-da-dum, dum, ba-da-dum Dum-ba-da-dum Ba-da-dum, dum, ba-dum Ba-da-dum, dum, ba-da-dum Ba-da-dum, dum, ba-da-dum Woke up in the morning feeling kinda great Too many things I wanna do Walking down the streets I'll find a million ways To create something new Maybe I could ski across the Milky Way Paint a picture of your smile, oh I'll become a doctor and I'll save the day Or just sit for a while Roll or hide, this heart has more colors Than black and white, don't act so surprised Every day brings a different you You gotta have a canvas for dreams to come true People always have opinions on what you're doing And they'll try to put you down All you have to do is let go of what they're saying They don't know who's the best in town Wrong or right This heart has more colors than black and white Don't act so surprised, every day brings a different hue You gotta have a canvas for dreams to come true All the steps we take Brings us closer to what we'll achieve And all the risks we make Will pay off Just believe We'll pay off, just believe So no matter wrong or right This heart has more colors than black and white Don't tell me you're surprised Every day brings a different hue You gotta have a canvas for dreams to come true You're wrong or right This heart has more colors than black and white Don't act so surprised Every day brings a different you You gotta have a canvas for dreams to come true Yeah A canvas for dreams to come true And this canvas will make dreams come true\n"
     ]
    }
   ],
   "source": [
    "article_file_path = \"alejandro_voice_transcribed.txt\"\n",
    "with open(article_file_path) as src:\n",
    "    article = src.readlines()[0]\n",
    "\n",
    "\n",
    "print(article)"
   ]
  },
  {
   "cell_type": "code",
   "execution_count": 11,
   "metadata": {},
   "outputs": [
    {
     "name": "stdout",
     "output_type": "stream",
     "text": [
      "[{'summary_text': \"This heart has more colors than black and white, don't act so surprised Every day brings a different you You gotta have a canvas for dreams to come true People always have opinions on what you're doing And they'll try to put you down All you have to do is let go of what they're saying. All the steps we take Brings us closer to what we'll achieve And all the risks we make Will pay off Just believe We'll pay off.\"}]\n",
      "This heart has more colors than black and white, don't act so surprised Every day brings a different you You gotta have a canvas for dreams to come true People always have opinions on what you're doing And they'll try to put you down All you have to do is let go of what they're saying. All the steps we take Brings us closer to what we'll achieve And all the risks we make Will pay off Just believe We'll pay off.\n"
     ]
    }
   ],
   "source": [
    "summarized_text = summarizer(article, max_length=130, min_length=30, do_sample=False)\n",
    "print(summarized_text)\n",
    "print(summarized_text[0][\"summary_text\"])"
   ]
  },
  {
   "cell_type": "code",
   "execution_count": 13,
   "metadata": {},
   "outputs": [
    {
     "ename": "",
     "evalue": "",
     "output_type": "error",
     "traceback": [
      "\u001b[1;31mThe Kernel crashed while executing code in the current cell or a previous cell. \n",
      "\u001b[1;31mPlease review the code in the cell(s) to identify a possible cause of the failure. \n",
      "\u001b[1;31mClick <a href='https://aka.ms/vscodeJupyterKernelCrash'>here</a> for more info. \n",
      "\u001b[1;31mView Jupyter <a href='command:jupyter.viewOutput'>log</a> for further details."
     ]
    }
   ],
   "source": [
    "summarized_text = summarized_text[0][\"summary_text\"]\n",
    "summarized_text_file_path = \"summarized_text.txt\"\n",
    "with open(summarized_text_file_path, \"w\") as dst:\n",
    "    dst.write(summarized_text)"
   ]
  }
 ],
 "metadata": {
  "kernelspec": {
   "display_name": "procrastinate",
   "language": "python",
   "name": "python3"
  },
  "language_info": {
   "codemirror_mode": {
    "name": "ipython",
    "version": 3
   },
   "file_extension": ".py",
   "mimetype": "text/x-python",
   "name": "python",
   "nbconvert_exporter": "python",
   "pygments_lexer": "ipython3",
   "version": "3.9.18"
  }
 },
 "nbformat": 4,
 "nbformat_minor": 2
}
